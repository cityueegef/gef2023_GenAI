{
  "nbformat": 4,
  "nbformat_minor": 0,
  "metadata": {
    "colab": {
      "provenance": []
    },
    "kernelspec": {
      "name": "python3",
      "display_name": "Python 3"
    },
    "language_info": {
      "name": "python"
    }
  },
  "cells": [
    {
      "cell_type": "code",
      "execution_count": null,
      "metadata": {
        "id": "YVBg2knAqHOw"
      },
      "outputs": [],
      "source": [
        "def simple_tokenizer(sentence):\n",
        "  return sentence.split()"
      ]
    },
    {
      "cell_type": "code",
      "source": [
        "!pip install paddlepaddle --pre paddlenlp"
      ],
      "metadata": {
        "colab": {
          "base_uri": "https://localhost:8080/"
        },
        "id": "DKARU289f4X_",
        "outputId": "1e527f43-4831-4c75-ffb2-381657328a39"
      },
      "execution_count": null,
      "outputs": [
        {
          "output_type": "stream",
          "name": "stdout",
          "text": [
            "Requirement already satisfied: paddlepaddle in /usr/local/lib/python3.10/dist-packages (2.6.2)\n",
            "Requirement already satisfied: paddlenlp in /usr/local/lib/python3.10/dist-packages (3.0.0b1)\n",
            "Requirement already satisfied: httpx in /usr/local/lib/python3.10/dist-packages (from paddlepaddle) (0.27.2)\n",
            "Requirement already satisfied: numpy>=1.13 in /usr/local/lib/python3.10/dist-packages (from paddlepaddle) (1.26.4)\n",
            "Requirement already satisfied: Pillow in /usr/local/lib/python3.10/dist-packages (from paddlepaddle) (10.4.0)\n",
            "Requirement already satisfied: decorator in /usr/local/lib/python3.10/dist-packages (from paddlepaddle) (4.4.2)\n",
            "Requirement already satisfied: astor in /usr/local/lib/python3.10/dist-packages (from paddlepaddle) (0.8.1)\n",
            "Requirement already satisfied: opt-einsum==3.3.0 in /usr/local/lib/python3.10/dist-packages (from paddlepaddle) (3.3.0)\n",
            "Requirement already satisfied: protobuf>=3.20.2 in /usr/local/lib/python3.10/dist-packages (from paddlepaddle) (3.20.3)\n",
            "Requirement already satisfied: jieba in /usr/local/lib/python3.10/dist-packages (from paddlenlp) (0.42.1)\n",
            "Requirement already satisfied: colorlog in /usr/local/lib/python3.10/dist-packages (from paddlenlp) (6.8.2)\n",
            "Requirement already satisfied: colorama in /usr/local/lib/python3.10/dist-packages (from paddlenlp) (0.4.6)\n",
            "Requirement already satisfied: seqeval in /usr/local/lib/python3.10/dist-packages (from paddlenlp) (1.2.2)\n",
            "Requirement already satisfied: dill<0.3.5 in /usr/local/lib/python3.10/dist-packages (from paddlenlp) (0.3.4)\n",
            "Requirement already satisfied: multiprocess<=0.70.12.2 in /usr/local/lib/python3.10/dist-packages (from paddlenlp) (0.70.12.2)\n",
            "Requirement already satisfied: datasets>=2.0.0 in /usr/local/lib/python3.10/dist-packages (from paddlenlp) (3.0.1)\n",
            "Requirement already satisfied: tqdm in /usr/local/lib/python3.10/dist-packages (from paddlenlp) (4.66.5)\n",
            "Requirement already satisfied: paddlefsl in /usr/local/lib/python3.10/dist-packages (from paddlenlp) (1.1.0)\n",
            "Requirement already satisfied: sentencepiece in /usr/local/lib/python3.10/dist-packages (from paddlenlp) (0.2.0)\n",
            "Requirement already satisfied: huggingface-hub>=0.19.2 in /usr/local/lib/python3.10/dist-packages (from paddlenlp) (0.24.7)\n",
            "Requirement already satisfied: onnx>=1.10.0 in /usr/local/lib/python3.10/dist-packages (from paddlenlp) (1.17.0)\n",
            "Requirement already satisfied: paddle2onnx in /usr/local/lib/python3.10/dist-packages (from paddlenlp) (1.2.9)\n",
            "Requirement already satisfied: Flask-Babel in /usr/local/lib/python3.10/dist-packages (from paddlenlp) (4.0.0)\n",
            "Requirement already satisfied: visualdl in /usr/local/lib/python3.10/dist-packages (from paddlenlp) (2.5.3)\n",
            "Requirement already satisfied: fastapi in /usr/local/lib/python3.10/dist-packages (from paddlenlp) (0.115.0)\n",
            "Requirement already satisfied: uvicorn in /usr/local/lib/python3.10/dist-packages (from paddlenlp) (0.31.0)\n",
            "Requirement already satisfied: typer in /usr/local/lib/python3.10/dist-packages (from paddlenlp) (0.12.5)\n",
            "Requirement already satisfied: rich in /usr/local/lib/python3.10/dist-packages (from paddlenlp) (13.8.1)\n",
            "Requirement already satisfied: safetensors in /usr/local/lib/python3.10/dist-packages (from paddlenlp) (0.4.5)\n",
            "Requirement already satisfied: aistudio-sdk>=0.1.3 in /usr/local/lib/python3.10/dist-packages (from paddlenlp) (0.2.6)\n",
            "Requirement already satisfied: jinja2 in /usr/local/lib/python3.10/dist-packages (from paddlenlp) (3.1.4)\n",
            "Requirement already satisfied: regex in /usr/local/lib/python3.10/dist-packages (from paddlenlp) (2024.9.11)\n",
            "Requirement already satisfied: tiktoken in /usr/local/lib/python3.10/dist-packages (from paddlenlp) (0.8.0)\n",
            "Requirement already satisfied: tokenizers in /usr/local/lib/python3.10/dist-packages (from paddlenlp) (0.19.1)\n",
            "Requirement already satisfied: tool-helpers==0.1.1 in /usr/local/lib/python3.10/dist-packages (from paddlenlp) (0.1.1)\n",
            "Requirement already satisfied: pybind11 in /usr/local/lib/python3.10/dist-packages (from tool-helpers==0.1.1->paddlenlp) (2.13.6)\n",
            "Requirement already satisfied: requests in /usr/local/lib/python3.10/dist-packages (from aistudio-sdk>=0.1.3->paddlenlp) (2.32.3)\n",
            "Requirement already satisfied: bce-python-sdk in /usr/local/lib/python3.10/dist-packages (from aistudio-sdk>=0.1.3->paddlenlp) (0.9.23)\n",
            "Requirement already satisfied: prettytable in /usr/local/lib/python3.10/dist-packages (from aistudio-sdk>=0.1.3->paddlenlp) (3.11.0)\n",
            "Requirement already satisfied: click in /usr/local/lib/python3.10/dist-packages (from aistudio-sdk>=0.1.3->paddlenlp) (8.1.7)\n",
            "Requirement already satisfied: filelock in /usr/local/lib/python3.10/dist-packages (from datasets>=2.0.0->paddlenlp) (3.16.1)\n",
            "Requirement already satisfied: pyarrow>=15.0.0 in /usr/local/lib/python3.10/dist-packages (from datasets>=2.0.0->paddlenlp) (16.1.0)\n",
            "Requirement already satisfied: pandas in /usr/local/lib/python3.10/dist-packages (from datasets>=2.0.0->paddlenlp) (2.2.2)\n",
            "Requirement already satisfied: xxhash in /usr/local/lib/python3.10/dist-packages (from datasets>=2.0.0->paddlenlp) (3.5.0)\n",
            "Requirement already satisfied: fsspec<=2024.6.1,>=2023.1.0 in /usr/local/lib/python3.10/dist-packages (from fsspec[http]<=2024.6.1,>=2023.1.0->datasets>=2.0.0->paddlenlp) (2024.6.1)\n",
            "Requirement already satisfied: aiohttp in /usr/local/lib/python3.10/dist-packages (from datasets>=2.0.0->paddlenlp) (3.10.8)\n",
            "Requirement already satisfied: packaging in /usr/local/lib/python3.10/dist-packages (from datasets>=2.0.0->paddlenlp) (24.1)\n",
            "Requirement already satisfied: pyyaml>=5.1 in /usr/local/lib/python3.10/dist-packages (from datasets>=2.0.0->paddlenlp) (6.0.2)\n",
            "Requirement already satisfied: typing-extensions>=3.7.4.3 in /usr/local/lib/python3.10/dist-packages (from huggingface-hub>=0.19.2->paddlenlp) (4.12.2)\n",
            "Requirement already satisfied: starlette<0.39.0,>=0.37.2 in /usr/local/lib/python3.10/dist-packages (from fastapi->paddlenlp) (0.38.6)\n",
            "Requirement already satisfied: pydantic!=1.8,!=1.8.1,!=2.0.0,!=2.0.1,!=2.1.0,<3.0.0,>=1.7.4 in /usr/local/lib/python3.10/dist-packages (from fastapi->paddlenlp) (2.9.2)\n",
            "Requirement already satisfied: Babel>=2.12 in /usr/local/lib/python3.10/dist-packages (from Flask-Babel->paddlenlp) (2.16.0)\n",
            "Requirement already satisfied: Flask>=2.0 in /usr/local/lib/python3.10/dist-packages (from Flask-Babel->paddlenlp) (2.2.5)\n",
            "Requirement already satisfied: pytz>=2022.7 in /usr/local/lib/python3.10/dist-packages (from Flask-Babel->paddlenlp) (2024.2)\n",
            "Requirement already satisfied: MarkupSafe>=2.0 in /usr/local/lib/python3.10/dist-packages (from jinja2->paddlenlp) (2.1.5)\n",
            "Requirement already satisfied: anyio in /usr/local/lib/python3.10/dist-packages (from httpx->paddlepaddle) (3.7.1)\n",
            "Requirement already satisfied: certifi in /usr/local/lib/python3.10/dist-packages (from httpx->paddlepaddle) (2024.8.30)\n",
            "Requirement already satisfied: httpcore==1.* in /usr/local/lib/python3.10/dist-packages (from httpx->paddlepaddle) (1.0.6)\n",
            "Requirement already satisfied: idna in /usr/local/lib/python3.10/dist-packages (from httpx->paddlepaddle) (3.10)\n",
            "Requirement already satisfied: sniffio in /usr/local/lib/python3.10/dist-packages (from httpx->paddlepaddle) (1.3.1)\n",
            "Requirement already satisfied: h11<0.15,>=0.13 in /usr/local/lib/python3.10/dist-packages (from httpcore==1.*->httpx->paddlepaddle) (0.14.0)\n",
            "Requirement already satisfied: markdown-it-py>=2.2.0 in /usr/local/lib/python3.10/dist-packages (from rich->paddlenlp) (3.0.0)\n",
            "Requirement already satisfied: pygments<3.0.0,>=2.13.0 in /usr/local/lib/python3.10/dist-packages (from rich->paddlenlp) (2.18.0)\n",
            "Requirement already satisfied: scikit-learn>=0.21.3 in /usr/local/lib/python3.10/dist-packages (from seqeval->paddlenlp) (1.5.2)\n",
            "Requirement already satisfied: shellingham>=1.3.0 in /usr/local/lib/python3.10/dist-packages (from typer->paddlenlp) (1.5.4)\n",
            "Requirement already satisfied: six>=1.14.0 in /usr/local/lib/python3.10/dist-packages (from visualdl->paddlenlp) (1.16.0)\n",
            "Requirement already satisfied: matplotlib in /usr/local/lib/python3.10/dist-packages (from visualdl->paddlenlp) (3.7.1)\n",
            "Requirement already satisfied: rarfile in /usr/local/lib/python3.10/dist-packages (from visualdl->paddlenlp) (4.2)\n",
            "Requirement already satisfied: psutil in /usr/local/lib/python3.10/dist-packages (from visualdl->paddlenlp) (5.9.5)\n",
            "Requirement already satisfied: Werkzeug>=2.2.2 in /usr/local/lib/python3.10/dist-packages (from Flask>=2.0->Flask-Babel->paddlenlp) (3.0.4)\n",
            "Requirement already satisfied: itsdangerous>=2.0 in /usr/local/lib/python3.10/dist-packages (from Flask>=2.0->Flask-Babel->paddlenlp) (2.2.0)\n",
            "Requirement already satisfied: aiohappyeyeballs>=2.3.0 in /usr/local/lib/python3.10/dist-packages (from aiohttp->datasets>=2.0.0->paddlenlp) (2.4.3)\n",
            "Requirement already satisfied: aiosignal>=1.1.2 in /usr/local/lib/python3.10/dist-packages (from aiohttp->datasets>=2.0.0->paddlenlp) (1.3.1)\n",
            "Requirement already satisfied: attrs>=17.3.0 in /usr/local/lib/python3.10/dist-packages (from aiohttp->datasets>=2.0.0->paddlenlp) (24.2.0)\n",
            "Requirement already satisfied: frozenlist>=1.1.1 in /usr/local/lib/python3.10/dist-packages (from aiohttp->datasets>=2.0.0->paddlenlp) (1.4.1)\n",
            "Requirement already satisfied: multidict<7.0,>=4.5 in /usr/local/lib/python3.10/dist-packages (from aiohttp->datasets>=2.0.0->paddlenlp) (6.1.0)\n",
            "Requirement already satisfied: yarl<2.0,>=1.12.0 in /usr/local/lib/python3.10/dist-packages (from aiohttp->datasets>=2.0.0->paddlenlp) (1.13.1)\n",
            "Requirement already satisfied: async-timeout<5.0,>=4.0 in /usr/local/lib/python3.10/dist-packages (from aiohttp->datasets>=2.0.0->paddlenlp) (4.0.3)\n",
            "Requirement already satisfied: mdurl~=0.1 in /usr/local/lib/python3.10/dist-packages (from markdown-it-py>=2.2.0->rich->paddlenlp) (0.1.2)\n",
            "Requirement already satisfied: annotated-types>=0.6.0 in /usr/local/lib/python3.10/dist-packages (from pydantic!=1.8,!=1.8.1,!=2.0.0,!=2.0.1,!=2.1.0,<3.0.0,>=1.7.4->fastapi->paddlenlp) (0.7.0)\n",
            "Requirement already satisfied: pydantic-core==2.23.4 in /usr/local/lib/python3.10/dist-packages (from pydantic!=1.8,!=1.8.1,!=2.0.0,!=2.0.1,!=2.1.0,<3.0.0,>=1.7.4->fastapi->paddlenlp) (2.23.4)\n",
            "Requirement already satisfied: charset-normalizer<4,>=2 in /usr/local/lib/python3.10/dist-packages (from requests->aistudio-sdk>=0.1.3->paddlenlp) (3.3.2)\n",
            "Requirement already satisfied: urllib3<3,>=1.21.1 in /usr/local/lib/python3.10/dist-packages (from requests->aistudio-sdk>=0.1.3->paddlenlp) (2.2.3)\n",
            "Requirement already satisfied: scipy>=1.6.0 in /usr/local/lib/python3.10/dist-packages (from scikit-learn>=0.21.3->seqeval->paddlenlp) (1.13.1)\n",
            "Requirement already satisfied: joblib>=1.2.0 in /usr/local/lib/python3.10/dist-packages (from scikit-learn>=0.21.3->seqeval->paddlenlp) (1.4.2)\n",
            "Requirement already satisfied: threadpoolctl>=3.1.0 in /usr/local/lib/python3.10/dist-packages (from scikit-learn>=0.21.3->seqeval->paddlenlp) (3.5.0)\n",
            "Requirement already satisfied: exceptiongroup in /usr/local/lib/python3.10/dist-packages (from anyio->httpx->paddlepaddle) (1.2.2)\n",
            "Requirement already satisfied: pycryptodome>=3.8.0 in /usr/local/lib/python3.10/dist-packages (from bce-python-sdk->aistudio-sdk>=0.1.3->paddlenlp) (3.21.0)\n",
            "Requirement already satisfied: future>=0.6.0 in /usr/local/lib/python3.10/dist-packages (from bce-python-sdk->aistudio-sdk>=0.1.3->paddlenlp) (1.0.0)\n",
            "Requirement already satisfied: contourpy>=1.0.1 in /usr/local/lib/python3.10/dist-packages (from matplotlib->visualdl->paddlenlp) (1.3.0)\n",
            "Requirement already satisfied: cycler>=0.10 in /usr/local/lib/python3.10/dist-packages (from matplotlib->visualdl->paddlenlp) (0.12.1)\n",
            "Requirement already satisfied: fonttools>=4.22.0 in /usr/local/lib/python3.10/dist-packages (from matplotlib->visualdl->paddlenlp) (4.54.1)\n",
            "Requirement already satisfied: kiwisolver>=1.0.1 in /usr/local/lib/python3.10/dist-packages (from matplotlib->visualdl->paddlenlp) (1.4.7)\n",
            "Requirement already satisfied: pyparsing>=2.3.1 in /usr/local/lib/python3.10/dist-packages (from matplotlib->visualdl->paddlenlp) (3.1.4)\n",
            "Requirement already satisfied: python-dateutil>=2.7 in /usr/local/lib/python3.10/dist-packages (from matplotlib->visualdl->paddlenlp) (2.8.2)\n",
            "Requirement already satisfied: tzdata>=2022.7 in /usr/local/lib/python3.10/dist-packages (from pandas->datasets>=2.0.0->paddlenlp) (2024.2)\n",
            "Requirement already satisfied: wcwidth in /usr/local/lib/python3.10/dist-packages (from prettytable->aistudio-sdk>=0.1.3->paddlenlp) (0.2.13)\n"
          ]
        }
      ]
    },
    {
      "cell_type": "code",
      "source": [
        "sequence = \"Let's have a tea break in CityU canteen tomorrow 3pm?\"\n",
        "tokens = simple_tokenizer(sequence)\n",
        "\n",
        "print(tokens)"
      ],
      "metadata": {
        "colab": {
          "base_uri": "https://localhost:8080/"
        },
        "id": "TvATU3JvqeJc",
        "outputId": "6a1e8c7b-f504-462b-a228-af8bb383cfd3"
      },
      "execution_count": null,
      "outputs": [
        {
          "output_type": "stream",
          "name": "stdout",
          "text": [
            "[\"Let's\", 'have', 'a', 'tea', 'break', 'in', 'CityU', 'canteen', 'tomorrow', '3pm?']\n"
          ]
        }
      ]
    },
    {
      "cell_type": "code",
      "source": [
        "from transformers import AutoTokenizer\n",
        "\n",
        "tokenizer_en = AutoTokenizer.from_pretrained('bert-base-cased')\n",
        "text = \"Let's have a tea break in CityU canteen tomorrow 3pm?\"\n",
        "\n",
        "tokens_en = tokenizer_en.tokenize(text)\n",
        "print(tokens_en)\n",
        "token_ids_en = tokenizer_en.convert_tokens_to_ids(tokens)\n",
        "print(token_ids_en)\n"
      ],
      "metadata": {
        "colab": {
          "base_uri": "https://localhost:8080/"
        },
        "id": "B2RmtrNwRVXj",
        "outputId": "9cbd777e-4979-4fec-ca9f-cb2447f11f98"
      },
      "execution_count": null,
      "outputs": [
        {
          "output_type": "stream",
          "name": "stderr",
          "text": [
            "/usr/local/lib/python3.10/dist-packages/huggingface_hub/utils/_token.py:89: UserWarning: \n",
            "The secret `HF_TOKEN` does not exist in your Colab secrets.\n",
            "To authenticate with the Hugging Face Hub, create a token in your settings tab (https://huggingface.co/settings/tokens), set it as secret in your Google Colab and restart your session.\n",
            "You will be able to reuse this secret in all of your notebooks.\n",
            "Please note that authentication is recommended but still optional to access public models or datasets.\n",
            "  warnings.warn(\n"
          ]
        },
        {
          "output_type": "stream",
          "name": "stdout",
          "text": [
            "['Let', \"'\", 's', 'have', 'a', 'tea', 'break', 'in', 'City', '##U', 'can', '##teen', 'tomorrow', '3', '##pm', '?']\n",
            "[100, 1138, 170, 5679, 2549, 1107, 100, 100, 4911, 100]\n"
          ]
        },
        {
          "output_type": "stream",
          "name": "stderr",
          "text": [
            "/usr/local/lib/python3.10/dist-packages/transformers/tokenization_utils_base.py:1601: FutureWarning: `clean_up_tokenization_spaces` was not set. It will be set to `True` by default. This behavior will be depracted in transformers v4.45, and will be then set to `False` by default. For more details check this issue: https://github.com/huggingface/transformers/issues/31884\n",
            "  warnings.warn(\n"
          ]
        }
      ]
    },
    {
      "cell_type": "markdown",
      "source": [
        "https://paddlenlp.readthedocs.io/zh/latest/source/paddlenlp.transformers.roformer.modeling.html#paddlenlp.transformers.roformer.modeling.RoFormerPretrainedModel"
      ],
      "metadata": {
        "id": "Zi1Mmddailin"
      }
    },
    {
      "cell_type": "code",
      "source": [
        "from paddlenlp.transformers import RoFormerTokenizer\n",
        "\n",
        "chinese_text = '明天3时半到城市大学餐厅下午茶好吗？'\n",
        "tokenizer_zh = RoFormerTokenizer.from_pretrained('roformer-chinese-base')\n",
        "tokens_zh = tokenizer_zh.tokenize(chinese_text)\n",
        "print(tokens_zh)\n",
        "token_ids_zh = tokenizer_zh.convert_tokens_to_ids(tokens_zh)\n",
        "print(token_ids_zh)"
      ],
      "metadata": {
        "colab": {
          "base_uri": "https://localhost:8080/"
        },
        "id": "iBZ6Ygzvf1Lq",
        "outputId": "962812e4-66f9-495a-a829-803032936049"
      },
      "execution_count": null,
      "outputs": [
        {
          "output_type": "stream",
          "name": "stderr",
          "text": [
            "/usr/local/lib/python3.10/dist-packages/_distutils_hack/__init__.py:32: UserWarning: Setuptools is replacing distutils. Support for replacing an already imported distutils is deprecated. In the future, this condition will fail. Register concerns at https://github.com/pypa/setuptools/issues/new?template=distutils-deprecation.yml\n",
            "  warnings.warn(\n",
            "\u001b[33m[2024-10-04 08:10:17,364] [ WARNING]\u001b[0m - if you run ring_flash_attention.py, please ensure you install the paddlenlp_ops by following the instructions provided at https://github.com/PaddlePaddle/PaddleNLP/blob/develop/csrc/README.md\u001b[0m\n",
            "\u001b[32m[2024-10-04 08:10:22,001] [    INFO]\u001b[0m - tokenizer config file saved in /root/.paddlenlp/models/roformer-chinese-base/tokenizer_config.json\u001b[0m\n",
            "\u001b[32m[2024-10-04 08:10:22,008] [    INFO]\u001b[0m - Special tokens file saved in /root/.paddlenlp/models/roformer-chinese-base/special_tokens_map.json\u001b[0m\n",
            "Building prefix dict from the default dictionary ...\n",
            "DEBUG:jieba:Building prefix dict from the default dictionary ...\n",
            "Loading model from cache /tmp/jieba.cache\n",
            "DEBUG:jieba:Loading model from cache /tmp/jieba.cache\n",
            "Loading model cost 3.627 seconds.\n",
            "DEBUG:jieba:Loading model cost 3.627 seconds.\n",
            "Prefix dict has been built successfully.\n",
            "DEBUG:jieba:Prefix dict has been built successfully.\n"
          ]
        },
        {
          "output_type": "stream",
          "name": "stdout",
          "text": [
            "['明天', '3', '时', '半', '到', '城市', '大学', '餐厅', '下午茶', '好', '吗', '？']\n",
            "[20898, 124, 2251, 702, 615, 14056, 14638, 34407, 36297, 1266, 815, 5665]\n"
          ]
        }
      ]
    },
    {
      "cell_type": "code",
      "source": [
        "from transformers import AutoTokenizer, AutoModel, BertTokenizer, BertModel\n",
        "from paddlenlp.transformers import RoFormerModel, RoFormerTokenizer\n",
        "import torch\n",
        "from sklearn.metrics.pairwise import cosine_similarity\n",
        "\n",
        "# Return a tensor of token_ids instead of a list of words\n",
        "# Tokenization for English sentence\n",
        "tokens_en = tokenizer_en(text, return_tensors=\"pt\", padding=True, truncation=True)\n",
        "\n",
        "# Tokenization for Chinese sentence\n",
        "tokens_zh = tokenizer_zh(chinese_text, return_tensors=\"pd\", padding=True, truncation=True)\n",
        "\n"
      ],
      "metadata": {
        "id": "aBD8P9YhQFhx"
      },
      "execution_count": null,
      "outputs": []
    },
    {
      "cell_type": "code",
      "source": [
        "# Model for the English sentence\n",
        "model_en = BertModel.from_pretrained('bert-base-uncased')\n",
        "\n",
        "# Model for the Chinese sentence\n",
        "model_zh = RoFormerModel.from_pretrained('roformer-chinese-base')#'bert-base-chinese')"
      ],
      "metadata": {
        "colab": {
          "base_uri": "https://localhost:8080/"
        },
        "id": "XQN13hVVkAs7",
        "outputId": "6c7e9369-fd50-4c9f-d808-721d7451489e"
      },
      "execution_count": null,
      "outputs": [
        {
          "output_type": "stream",
          "name": "stderr",
          "text": [
            "\u001b[32m[2024-10-04 08:10:28,107] [    INFO]\u001b[0m - Loading weights file from cache at /root/.paddlenlp/models/roformer-chinese-base/model_state.pdparams\u001b[0m\n",
            "\u001b[32m[2024-10-04 08:10:31,235] [    INFO]\u001b[0m - Loaded weights file from disk, setting weights to model.\u001b[0m\n",
            "\u001b[33m[2024-10-04 08:10:45,640] [ WARNING]\u001b[0m - Some weights of the model checkpoint at roformer-chinese-base were not used when initializing RoFormerModel: ['cls.predictions.decoder_bias', 'cls.predictions.decoder_weight', 'cls.predictions.layer_norm.bias', 'cls.predictions.layer_norm.weight', 'cls.predictions.transform.bias', 'cls.predictions.transform.weight', 'cls.seq_relationship.bias', 'cls.seq_relationship.weight']\n",
            "- This IS expected if you are initializing RoFormerModel from the checkpoint of a model trained on another task or with another architecture (e.g. initializing a BertForSequenceClassification model from a BertForPreTraining model).\n",
            "- This IS NOT expected if you are initializing RoFormerModel from the checkpoint of a model that you expect to be exactly identical (initializing a BertForSequenceClassification model from a BertForSequenceClassification model).\u001b[0m\n",
            "\u001b[32m[2024-10-04 08:10:45,649] [    INFO]\u001b[0m - All the weights of RoFormerModel were initialized from the model checkpoint at roformer-chinese-base.\n",
            "If your task is similar to the task the model of the checkpoint was trained on, you can already use RoFormerModel for predictions without further training.\u001b[0m\n"
          ]
        }
      ]
    },
    {
      "cell_type": "code",
      "source": [
        "# Get embeddings for the English sentence\n",
        "with torch.no_grad():\n",
        "    embeddings_text = model_en(**tokens_en).last_hidden_state.mean(dim=1)\n",
        "\n",
        "# Get embeddings for the Chinese sentence\n",
        "with torch.no_grad():\n",
        "    embeddings_chinese = model_zh(**tokens_zh)[0].mean(axis=1)\n",
        "\n",
        "\n"
      ],
      "metadata": {
        "id": "OjSWCve8V-Ga"
      },
      "execution_count": null,
      "outputs": []
    },
    {
      "cell_type": "code",
      "source": [
        "# Measure cosine similarity between the two embeddings\n",
        "similarity = cosine_similarity(embeddings_text.numpy(), embeddings_chinese.numpy())[0][0]\n",
        "print(f\"Similarity between English and Chinese sentence: {similarity}\")\n",
        "\n",
        "# Additional sentence with different meaning for comparison\n",
        "different_sentence = \"have you had lunch yet?\"#\"The weather is sunny today.\"\n",
        "\n",
        "# Tokenization for the different sentence (using English tokenizer)\n",
        "tokens_different = tokenizer_en(different_sentence, return_tensors=\"pt\", padding=True, truncation=True)\n",
        "\n",
        "# Get embeddings for the different sentence\n",
        "with torch.no_grad():\n",
        "    embeddings_different = model_en(**tokens_different).last_hidden_state.mean(dim=1)\n",
        "\n",
        "# Measure similarity between the original English sentence and the different one\n",
        "similarity_different = cosine_similarity(embeddings_text.numpy(), embeddings_different.numpy())[0][0]\n",
        "print(f\"Similarity between original English sentence and different sentence: {similarity_different}\")"
      ],
      "metadata": {
        "colab": {
          "base_uri": "https://localhost:8080/"
        },
        "id": "O6DiNnn6Wu9G",
        "outputId": "a11320c7-6426-4f6b-b4dd-a78c1204eabd"
      },
      "execution_count": null,
      "outputs": [
        {
          "output_type": "stream",
          "name": "stdout",
          "text": [
            "Similarity between English and Chinese sentence: 0.0062678661197423935\n",
            "Similarity between original English sentence and different sentence: 0.7358040809631348\n"
          ]
        }
      ]
    },
    {
      "cell_type": "code",
      "source": [],
      "metadata": {
        "id": "WVGoVtF5c77d"
      },
      "execution_count": null,
      "outputs": []
    }
  ]
}
